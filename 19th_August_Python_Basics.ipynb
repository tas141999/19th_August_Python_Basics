{
 "cells": [
  {
   "cell_type": "markdown",
   "id": "ea0ebd09-613a-4364-a1db-f3523e5852d9",
   "metadata": {},
   "source": [
    "TOPIC: Python Basics Variable"
   ]
  },
  {
   "cell_type": "markdown",
   "id": "9d1c8571-68bf-490e-8c89-1e7195a2051a",
   "metadata": {},
   "source": [
    "1. Declare two variables, `x` and `y`, and assign them integer values. Swap the\n",
    "values of these variables without using any temporary variable."
   ]
  },
  {
   "cell_type": "code",
   "execution_count": 27,
   "id": "e5c94f0c-acef-4b4c-94b4-7737d6172dd9",
   "metadata": {},
   "outputs": [
    {
     "name": "stdout",
     "output_type": "stream",
     "text": [
      "-63\n",
      "97\n",
      "34\n",
      "\n",
      "Numbers after swapping:\n",
      "x =  34   &   y =  97\n"
     ]
    }
   ],
   "source": [
    "#Declaring integer variables with hardcoded values\n",
    "x = 97\n",
    "y = 34\n",
    "\n",
    "'''first we will get the difference in one of the variable, then we will add(if diff is negative)/subtract the diff with 2nd variable \n",
    "to swap with first, then add the swapped variable with the first variable which contains the diff'''\n",
    "x = y - x\n",
    "print(x)\n",
    "y = y - x\n",
    "print(y)\n",
    "x = x + y\n",
    "print(x)\n",
    "\n",
    "print('\\nNumbers after swapping:')\n",
    "print('x = ',x ,'  &   y = ',y)"
   ]
  },
  {
   "cell_type": "markdown",
   "id": "08a14066-42d5-4852-b773-7d156598f40e",
   "metadata": {},
   "source": [
    "2. Create a program that calculates the area of a rectangle. Take the length and\n",
    "width as inputs from the user and store them in variables. Calculate and\n",
    "display the area."
   ]
  },
  {
   "cell_type": "code",
   "execution_count": 30,
   "id": "cce220fa-e3be-4933-8bad-66a336f54773",
   "metadata": {},
   "outputs": [
    {
     "name": "stdout",
     "output_type": "stream",
     "text": [
      "Please enter length of rectangle in metres\n"
     ]
    },
    {
     "name": "stdin",
     "output_type": "stream",
     "text": [
      " 20\n"
     ]
    },
    {
     "name": "stdout",
     "output_type": "stream",
     "text": [
      "Please enter breadth of rectangle in metres\n"
     ]
    },
    {
     "name": "stdin",
     "output_type": "stream",
     "text": [
      " 12\n"
     ]
    },
    {
     "name": "stdout",
     "output_type": "stream",
     "text": [
      "Area of rectangle:   240 square metres\n"
     ]
    }
   ],
   "source": [
    "#Taking input from user and typecasting them to int to perform mathematical operation\n",
    "print('Please enter length of rectangle in metres')\n",
    "length = int(input())\n",
    "print('Please enter breadth of rectangle in metres')\n",
    "breadth = int(input())\n",
    "\n",
    "#Calculating and printing the area\n",
    "print('Area of rectangle:  ',length * breadth, 'square metres')"
   ]
  },
  {
   "cell_type": "markdown",
   "id": "0a060f32-68f9-45e3-8df3-f76257702929",
   "metadata": {},
   "source": [
    "3. Write a Python program that converts temperatures from Celsius to\n",
    "Fahrenheit. Take the temperature in Celsius as input, store it in a variable,\n",
    "convert it to Fahrenheit, and display the result."
   ]
  },
  {
   "cell_type": "code",
   "execution_count": 32,
   "id": "54f58767-4f0a-42cd-85ef-012a717fc003",
   "metadata": {},
   "outputs": [
    {
     "name": "stdout",
     "output_type": "stream",
     "text": [
      "Please enter temp in Celsius\n"
     ]
    },
    {
     "name": "stdin",
     "output_type": "stream",
     "text": [
      " 0\n"
     ]
    },
    {
     "name": "stdout",
     "output_type": "stream",
     "text": [
      "Temperature in Fahrenheit: 32.0 F\n"
     ]
    }
   ],
   "source": [
    "#Taking input from user and typecasting them to int to perform mathematical operation\n",
    "print('Please enter temp in Celsius')\n",
    "temp = int(input())\n",
    "\n",
    "#converting and printing temperatures from Celsius to Fahrenheit\n",
    "print('Temperature in Fahrenheit:', (temp * 9/5) + 32, 'F')"
   ]
  },
  {
   "cell_type": "markdown",
   "id": "bc6d1c9d-c0af-4965-be4d-b7adfa52adee",
   "metadata": {},
   "source": []
  },
  {
   "cell_type": "markdown",
   "id": "d0e54d01-f098-445d-89ab-77670c23601c",
   "metadata": {},
   "source": [
    "\n",
    "TOPIC: String Based Questions"
   ]
  },
  {
   "cell_type": "markdown",
   "id": "feb4b4cf-95b8-49d5-af6f-a8edcabf9d49",
   "metadata": {},
   "source": [
    "1. Write a Python program that takes a string as input and prints the length of\n",
    "the string."
   ]
  },
  {
   "cell_type": "code",
   "execution_count": 35,
   "id": "3a7c052d-d497-48e9-98a1-f51e7931f523",
   "metadata": {},
   "outputs": [
    {
     "name": "stdout",
     "output_type": "stream",
     "text": [
      "Please enter a string\n"
     ]
    },
    {
     "name": "stdin",
     "output_type": "stream",
     "text": [
      " this is my first assignment\n"
     ]
    },
    {
     "name": "stdout",
     "output_type": "stream",
     "text": [
      "Length of string:  27\n"
     ]
    }
   ],
   "source": [
    "#Taking a string input\n",
    "print('Please enter a string')\n",
    "str = input()\n",
    "\n",
    "#printing the length of string\n",
    "print('Length of string: ', len(str))"
   ]
  },
  {
   "cell_type": "markdown",
   "id": "eedda50d-3208-4737-82d8-5cc0a176fb9e",
   "metadata": {},
   "source": [
    "2. Create a program that takes a sentence from the user and counts the number\n",
    "of vowels (a, e, i, o, u) in the string."
   ]
  },
  {
   "cell_type": "code",
   "execution_count": 42,
   "id": "11d55f78-2ede-4110-9f52-974fa2ae7347",
   "metadata": {},
   "outputs": [
    {
     "name": "stdout",
     "output_type": "stream",
     "text": [
      "Please enter a sentence\n"
     ]
    },
    {
     "name": "stdin",
     "output_type": "stream",
     "text": [
      " counting vowels using for and if\n"
     ]
    },
    {
     "name": "stdout",
     "output_type": "stream",
     "text": [
      "10\n"
     ]
    }
   ],
   "source": [
    "#Taking sentence from user\n",
    "print('Please enter a sentence')\n",
    "str = input()\n",
    "\n",
    "#storing vowels in both upper and lower to compare\n",
    "vowels = 'aeiouAEIOU'\n",
    "\n",
    "#initializing count variable with 0 count\n",
    "count = 0\n",
    "\n",
    "#iterating each index to compare with vowels and incrementing count whenever there is a match\n",
    "for i in str:\n",
    "    if(i in vowels):\n",
    "        count = count + 1\n",
    "\n",
    "print(count)"
   ]
  },
  {
   "cell_type": "markdown",
   "id": "a12d58f9-3752-42fd-ad9c-a801a21aee45",
   "metadata": {},
   "source": [
    "3. Given a string, reverse the order of characters using string slicing and print\n",
    "the reversed string."
   ]
  },
  {
   "cell_type": "code",
   "execution_count": 47,
   "id": "323b849f-26a6-4456-97fd-4f181e9368ba",
   "metadata": {},
   "outputs": [
    {
     "name": "stdout",
     "output_type": "stream",
     "text": [
      "Please enter a string\n"
     ]
    },
    {
     "name": "stdin",
     "output_type": "stream",
     "text": [
      " third answer\n"
     ]
    },
    {
     "name": "stdout",
     "output_type": "stream",
     "text": [
      "Reversed string:\n",
      " rewsna driht\n"
     ]
    }
   ],
   "source": [
    "#Taking string from user\n",
    "print('Please enter a string')\n",
    "str = input()\n",
    "\n",
    "#started printing from last using fisrt -1 and coming one by one on reverse scale using last -1\n",
    "print('Reversed string:\\n', str[-1::-1])"
   ]
  },
  {
   "cell_type": "markdown",
   "id": "79ad3369-8c06-48f1-a013-be7846aab22f",
   "metadata": {},
   "source": [
    "4. Write a program that takes a string as input and checks if it is a palindrome\n",
    "(reads the same forwards and backwards)."
   ]
  },
  {
   "cell_type": "code",
   "execution_count": 51,
   "id": "ab60c9d5-c17a-4ad4-9d55-5b8d1c352378",
   "metadata": {},
   "outputs": [
    {
     "name": "stdout",
     "output_type": "stream",
     "text": [
      "Please enter a string\n"
     ]
    },
    {
     "name": "stdin",
     "output_type": "stream",
     "text": [
      " ccbbcc\n"
     ]
    },
    {
     "name": "stdout",
     "output_type": "stream",
     "text": [
      "String is palindrome\n"
     ]
    }
   ],
   "source": [
    "#Taking string from user\n",
    "print('Please enter a string')\n",
    "str = input()\n",
    "\n",
    "#comparing original string with it's reverse if it's same then will print pallindrome otherwise not\n",
    "if(str == str[-1::-1]):\n",
    "    print('String is palindrome')\n",
    "else:\n",
    "    print('String is not palindrome')"
   ]
  },
  {
   "cell_type": "markdown",
   "id": "b0afbda2-d58f-486b-b03b-a4f30f74c8e0",
   "metadata": {},
   "source": [
    "5. Create a program that takes a string as input and removes all the spaces from\n",
    "it. Print the modified string without spaces."
   ]
  },
  {
   "cell_type": "code",
   "execution_count": 58,
   "id": "f8a07ad8-b317-4fc7-a5e5-b4b573ca9259",
   "metadata": {},
   "outputs": [
    {
     "name": "stdout",
     "output_type": "stream",
     "text": [
      "Please enter a string\n"
     ]
    },
    {
     "name": "stdin",
     "output_type": "stream",
     "text": [
      " removing space from string\n"
     ]
    },
    {
     "name": "stdout",
     "output_type": "stream",
     "text": [
      "removingspacefromstring\n"
     ]
    }
   ],
   "source": [
    "#Taking string from user\n",
    "print('Please enter a string')\n",
    "str = input()\n",
    "\n",
    "#initializing new empty string\n",
    "str1 = ''\n",
    "\n",
    "#iterating the string, if character is space does not include in new string, then print the string when loop ends\n",
    "for i in str:\n",
    "    if (i != ' '):\n",
    "        str1 = str1+i\n",
    "\n",
    "print(str1)"
   ]
  }
 ],
 "metadata": {
  "kernelspec": {
   "display_name": "Python 3 (ipykernel)",
   "language": "python",
   "name": "python3"
  },
  "language_info": {
   "codemirror_mode": {
    "name": "ipython",
    "version": 3
   },
   "file_extension": ".py",
   "mimetype": "text/x-python",
   "name": "python",
   "nbconvert_exporter": "python",
   "pygments_lexer": "ipython3",
   "version": "3.10.8"
  }
 },
 "nbformat": 4,
 "nbformat_minor": 5
}
